{
  "cells": [
    {
      "cell_type": "markdown",
      "metadata": {
        "id": "avCbnNj5RTDb"
      },
      "source": [
        "# IS 4487 Assignment 6: Data Cleaning with Airbnb Listings\n",
        "\n",
        "In this assignment, you will:\n",
        "- Load a raw Airbnb listings dataset\n",
        "- Identify and resolve missing or inconsistent data\n",
        "- Decide what data to drop, keep, or clean\n",
        "- Save a clean dataset to use in Assignment 7\n",
        "\n",
        "## Why This Matters\n",
        "\n",
        "Data cleaning is one of the most important steps in any analysis — but it's often the least visible. Airbnb hosts, managers, and policy teams rely on clean data to make decisions. This assignment gives you experience cleaning raw data and justifying your choices so others can understand your process.\n",
        "\n",
        "<a href=\"https://colab.research.google.com/github/Stan-Pugsley/is_4487_base/blob/main/Assignments/assignment_06_data_cleaning.ipynb\" target=\"_parent\">\n",
        "  <img src=\"https://colab.research.google.com/assets/colab-badge.svg\" alt=\"Open In Colab\"/>\n",
        "</a>\n",
        "\n"
      ]
    },
    {
      "cell_type": "markdown",
      "metadata": {
        "id": "-YtEOclERnZ8"
      },
      "source": [
        "## Dataset Description\n",
        "\n",
        "The dataset you'll be using is a **detailed Airbnb listing file**, available from [Inside Airbnb](https://insideairbnb.com/get-the-data/).\n",
        "\n",
        "Each row represents one property listing. The columns include:\n",
        "\n",
        "- **Host attributes** (e.g., host ID, host name, host response time)\n",
        "- **Listing details** (e.g., price, room type, minimum nights, availability)\n",
        "- **Location data** (e.g., neighborhood, latitude/longitude)\n",
        "- **Property characteristics** (e.g., number of bedrooms, amenities, accommodates)\n",
        "- **Calendar/booking variables** (e.g., last review date, number of reviews)\n",
        "\n",
        "📌 The schema is consistent across cities, so you can expect similar columns regardless of the location you choose.\n"
      ]
    },
    {
      "cell_type": "markdown",
      "metadata": {
        "id": "Rl-WZK3kRs_9"
      },
      "source": [
        "## 1. Choose a City & Upload Your Dataset\n",
        "\n",
        "📥 Follow these steps:\n",
        "\n",
        "1. Go to: [https://insideairbnb.com/get-the-data/](https://insideairbnb.com/get-the-data/)\n",
        "2. Choose a city you’re interested in.\n",
        "3. Download the file named: **`listings.csv.gz`** under that city.\n",
        "4. In your notebook:\n",
        "   - Open the left sidebar\n",
        "   - Click the folder icon 📁\n",
        "   - Click the upload icon ⬆️ and choose your `listings.csv.gz` file\n",
        "5. Use the file path `/content/listings.csv.gz` when loading your data.\n",
        "6. Import standard libraries (`pandas`, `numpy`, `seaborn`, `matplotlib`)\n"
      ]
    },
    {
      "cell_type": "code",
      "execution_count": 1,
      "metadata": {
        "id": "j1o2VjQNRLI1"
      },
      "outputs": [],
      "source": [
        "import pandas as pd\n",
        "import numpy as np\n",
        "import seaborn as sns\n",
        "import matplotlib.pyplot as plt"
      ]
    },
    {
      "cell_type": "code",
      "execution_count": 2,
      "metadata": {
        "id": "05dzhQHzR0vt",
        "colab": {
          "base_uri": "https://localhost:8080/",
          "height": 655
        },
        "outputId": "6ed5eb56-27b5-4301-ce3e-c8714e4ef93e"
      },
      "outputs": [
        {
          "output_type": "stream",
          "name": "stdout",
          "text": [
            "Filas y columnas: (18927, 79)\n"
          ]
        },
        {
          "output_type": "execute_result",
          "data": {
            "text/plain": [
              "       id                          listing_url       scrape_id last_scraped  \\\n",
              "0   18674   https://www.airbnb.com/rooms/18674  20250612050654   2025-06-21   \n",
              "1   23197   https://www.airbnb.com/rooms/23197  20250612050654   2025-06-23   \n",
              "2   32711   https://www.airbnb.com/rooms/32711  20250612050654   2025-06-22   \n",
              "3   34241   https://www.airbnb.com/rooms/34241  20250612050654   2025-06-22   \n",
              "4  347824  https://www.airbnb.com/rooms/347824  20250612050654   2025-06-22   \n",
              "\n",
              "        source                                               name  \\\n",
              "0  city scrape    Huge flat for 8 people close to Sagrada Familia   \n",
              "1  city scrape  Forum CCIB DeLuxe, Spacious, Large Balcony, relax   \n",
              "2  city scrape                   Sagrada Familia area - Còrsega 1   \n",
              "3  city scrape   Stylish Top Floor Apartment - Ramblas Plaza Real   \n",
              "4  city scrape  Ideal Happy Location Barceloneta Beach, Old Town!   \n",
              "\n",
              "                                         description  \\\n",
              "0  110m2 apartment to rent in Barcelona. Located ...   \n",
              "1  Beautiful and Spacious Apartment with Large Te...   \n",
              "2  A lovely two bedroom apartment only 250 m from...   \n",
              "3  Located in close proximity to Plaza Real and L...   \n",
              "4  Please send us a message to confirm availabili...   \n",
              "\n",
              "                               neighborhood_overview  \\\n",
              "0  Apartment in Barcelona located in the heart of...   \n",
              "1  Strategically located in the Parc del Fòrum, a...   \n",
              "2  What's nearby  <br />This apartment is located...   \n",
              "3                                                NaN   \n",
              "4                                                NaN   \n",
              "\n",
              "                                         picture_url  host_id  ...  \\\n",
              "0  https://a0.muscache.com/pictures/13031453/413c...    71615  ...   \n",
              "1  https://a0.muscache.com/pictures/miso/Hosting-...    90417  ...   \n",
              "2  https://a0.muscache.com/pictures/357b25e4-f414...   135703  ...   \n",
              "3  https://a0.muscache.com/pictures/2437facc-2fe7...    73163  ...   \n",
              "4  https://a0.muscache.com/pictures/miso/Hosting-...  1447144  ...   \n",
              "\n",
              "  review_scores_communication review_scores_location review_scores_value  \\\n",
              "0                        4.60                   4.81                4.28   \n",
              "1                        4.99                   4.65                4.68   \n",
              "2                        4.89                   4.89                4.47   \n",
              "3                        4.68                   4.73                4.23   \n",
              "4                        3.67                   5.00                4.00   \n",
              "\n",
              "       license instant_bookable calculated_host_listings_count  \\\n",
              "0  HUTB-002062                t                             28   \n",
              "1   HUTB005057                f                              1   \n",
              "2  HUTB-001722                f                              3   \n",
              "3       Exempt                f                              3   \n",
              "4  HUTB-076700                f                            355   \n",
              "\n",
              "  calculated_host_listings_count_entire_homes  \\\n",
              "0                                          28   \n",
              "1                                           1   \n",
              "2                                           3   \n",
              "3                                           3   \n",
              "4                                         355   \n",
              "\n",
              "  calculated_host_listings_count_private_rooms  \\\n",
              "0                                            0   \n",
              "1                                            0   \n",
              "2                                            0   \n",
              "3                                            0   \n",
              "4                                            0   \n",
              "\n",
              "  calculated_host_listings_count_shared_rooms reviews_per_month  \n",
              "0                                           0              0.33  \n",
              "1                                           0              0.51  \n",
              "2                                           0              0.87  \n",
              "3                                           0              0.14  \n",
              "4                                           0              0.02  \n",
              "\n",
              "[5 rows x 79 columns]"
            ],
            "text/html": [
              "\n",
              "  <div id=\"df-0092b832-fbb4-4715-813d-cefc6687792d\" class=\"colab-df-container\">\n",
              "    <div>\n",
              "<style scoped>\n",
              "    .dataframe tbody tr th:only-of-type {\n",
              "        vertical-align: middle;\n",
              "    }\n",
              "\n",
              "    .dataframe tbody tr th {\n",
              "        vertical-align: top;\n",
              "    }\n",
              "\n",
              "    .dataframe thead th {\n",
              "        text-align: right;\n",
              "    }\n",
              "</style>\n",
              "<table border=\"1\" class=\"dataframe\">\n",
              "  <thead>\n",
              "    <tr style=\"text-align: right;\">\n",
              "      <th></th>\n",
              "      <th>id</th>\n",
              "      <th>listing_url</th>\n",
              "      <th>scrape_id</th>\n",
              "      <th>last_scraped</th>\n",
              "      <th>source</th>\n",
              "      <th>name</th>\n",
              "      <th>description</th>\n",
              "      <th>neighborhood_overview</th>\n",
              "      <th>picture_url</th>\n",
              "      <th>host_id</th>\n",
              "      <th>...</th>\n",
              "      <th>review_scores_communication</th>\n",
              "      <th>review_scores_location</th>\n",
              "      <th>review_scores_value</th>\n",
              "      <th>license</th>\n",
              "      <th>instant_bookable</th>\n",
              "      <th>calculated_host_listings_count</th>\n",
              "      <th>calculated_host_listings_count_entire_homes</th>\n",
              "      <th>calculated_host_listings_count_private_rooms</th>\n",
              "      <th>calculated_host_listings_count_shared_rooms</th>\n",
              "      <th>reviews_per_month</th>\n",
              "    </tr>\n",
              "  </thead>\n",
              "  <tbody>\n",
              "    <tr>\n",
              "      <th>0</th>\n",
              "      <td>18674</td>\n",
              "      <td>https://www.airbnb.com/rooms/18674</td>\n",
              "      <td>20250612050654</td>\n",
              "      <td>2025-06-21</td>\n",
              "      <td>city scrape</td>\n",
              "      <td>Huge flat for 8 people close to Sagrada Familia</td>\n",
              "      <td>110m2 apartment to rent in Barcelona. Located ...</td>\n",
              "      <td>Apartment in Barcelona located in the heart of...</td>\n",
              "      <td>https://a0.muscache.com/pictures/13031453/413c...</td>\n",
              "      <td>71615</td>\n",
              "      <td>...</td>\n",
              "      <td>4.60</td>\n",
              "      <td>4.81</td>\n",
              "      <td>4.28</td>\n",
              "      <td>HUTB-002062</td>\n",
              "      <td>t</td>\n",
              "      <td>28</td>\n",
              "      <td>28</td>\n",
              "      <td>0</td>\n",
              "      <td>0</td>\n",
              "      <td>0.33</td>\n",
              "    </tr>\n",
              "    <tr>\n",
              "      <th>1</th>\n",
              "      <td>23197</td>\n",
              "      <td>https://www.airbnb.com/rooms/23197</td>\n",
              "      <td>20250612050654</td>\n",
              "      <td>2025-06-23</td>\n",
              "      <td>city scrape</td>\n",
              "      <td>Forum CCIB DeLuxe, Spacious, Large Balcony, relax</td>\n",
              "      <td>Beautiful and Spacious Apartment with Large Te...</td>\n",
              "      <td>Strategically located in the Parc del Fòrum, a...</td>\n",
              "      <td>https://a0.muscache.com/pictures/miso/Hosting-...</td>\n",
              "      <td>90417</td>\n",
              "      <td>...</td>\n",
              "      <td>4.99</td>\n",
              "      <td>4.65</td>\n",
              "      <td>4.68</td>\n",
              "      <td>HUTB005057</td>\n",
              "      <td>f</td>\n",
              "      <td>1</td>\n",
              "      <td>1</td>\n",
              "      <td>0</td>\n",
              "      <td>0</td>\n",
              "      <td>0.51</td>\n",
              "    </tr>\n",
              "    <tr>\n",
              "      <th>2</th>\n",
              "      <td>32711</td>\n",
              "      <td>https://www.airbnb.com/rooms/32711</td>\n",
              "      <td>20250612050654</td>\n",
              "      <td>2025-06-22</td>\n",
              "      <td>city scrape</td>\n",
              "      <td>Sagrada Familia area - Còrsega 1</td>\n",
              "      <td>A lovely two bedroom apartment only 250 m from...</td>\n",
              "      <td>What's nearby  &lt;br /&gt;This apartment is located...</td>\n",
              "      <td>https://a0.muscache.com/pictures/357b25e4-f414...</td>\n",
              "      <td>135703</td>\n",
              "      <td>...</td>\n",
              "      <td>4.89</td>\n",
              "      <td>4.89</td>\n",
              "      <td>4.47</td>\n",
              "      <td>HUTB-001722</td>\n",
              "      <td>f</td>\n",
              "      <td>3</td>\n",
              "      <td>3</td>\n",
              "      <td>0</td>\n",
              "      <td>0</td>\n",
              "      <td>0.87</td>\n",
              "    </tr>\n",
              "    <tr>\n",
              "      <th>3</th>\n",
              "      <td>34241</td>\n",
              "      <td>https://www.airbnb.com/rooms/34241</td>\n",
              "      <td>20250612050654</td>\n",
              "      <td>2025-06-22</td>\n",
              "      <td>city scrape</td>\n",
              "      <td>Stylish Top Floor Apartment - Ramblas Plaza Real</td>\n",
              "      <td>Located in close proximity to Plaza Real and L...</td>\n",
              "      <td>NaN</td>\n",
              "      <td>https://a0.muscache.com/pictures/2437facc-2fe7...</td>\n",
              "      <td>73163</td>\n",
              "      <td>...</td>\n",
              "      <td>4.68</td>\n",
              "      <td>4.73</td>\n",
              "      <td>4.23</td>\n",
              "      <td>Exempt</td>\n",
              "      <td>f</td>\n",
              "      <td>3</td>\n",
              "      <td>3</td>\n",
              "      <td>0</td>\n",
              "      <td>0</td>\n",
              "      <td>0.14</td>\n",
              "    </tr>\n",
              "    <tr>\n",
              "      <th>4</th>\n",
              "      <td>347824</td>\n",
              "      <td>https://www.airbnb.com/rooms/347824</td>\n",
              "      <td>20250612050654</td>\n",
              "      <td>2025-06-22</td>\n",
              "      <td>city scrape</td>\n",
              "      <td>Ideal Happy Location Barceloneta Beach, Old Town!</td>\n",
              "      <td>Please send us a message to confirm availabili...</td>\n",
              "      <td>NaN</td>\n",
              "      <td>https://a0.muscache.com/pictures/miso/Hosting-...</td>\n",
              "      <td>1447144</td>\n",
              "      <td>...</td>\n",
              "      <td>3.67</td>\n",
              "      <td>5.00</td>\n",
              "      <td>4.00</td>\n",
              "      <td>HUTB-076700</td>\n",
              "      <td>f</td>\n",
              "      <td>355</td>\n",
              "      <td>355</td>\n",
              "      <td>0</td>\n",
              "      <td>0</td>\n",
              "      <td>0.02</td>\n",
              "    </tr>\n",
              "  </tbody>\n",
              "</table>\n",
              "<p>5 rows × 79 columns</p>\n",
              "</div>\n",
              "    <div class=\"colab-df-buttons\">\n",
              "\n",
              "  <div class=\"colab-df-container\">\n",
              "    <button class=\"colab-df-convert\" onclick=\"convertToInteractive('df-0092b832-fbb4-4715-813d-cefc6687792d')\"\n",
              "            title=\"Convert this dataframe to an interactive table.\"\n",
              "            style=\"display:none;\">\n",
              "\n",
              "  <svg xmlns=\"http://www.w3.org/2000/svg\" height=\"24px\" viewBox=\"0 -960 960 960\">\n",
              "    <path d=\"M120-120v-720h720v720H120Zm60-500h600v-160H180v160Zm220 220h160v-160H400v160Zm0 220h160v-160H400v160ZM180-400h160v-160H180v160Zm440 0h160v-160H620v160ZM180-180h160v-160H180v160Zm440 0h160v-160H620v160Z\"/>\n",
              "  </svg>\n",
              "    </button>\n",
              "\n",
              "  <style>\n",
              "    .colab-df-container {\n",
              "      display:flex;\n",
              "      gap: 12px;\n",
              "    }\n",
              "\n",
              "    .colab-df-convert {\n",
              "      background-color: #E8F0FE;\n",
              "      border: none;\n",
              "      border-radius: 50%;\n",
              "      cursor: pointer;\n",
              "      display: none;\n",
              "      fill: #1967D2;\n",
              "      height: 32px;\n",
              "      padding: 0 0 0 0;\n",
              "      width: 32px;\n",
              "    }\n",
              "\n",
              "    .colab-df-convert:hover {\n",
              "      background-color: #E2EBFA;\n",
              "      box-shadow: 0px 1px 2px rgba(60, 64, 67, 0.3), 0px 1px 3px 1px rgba(60, 64, 67, 0.15);\n",
              "      fill: #174EA6;\n",
              "    }\n",
              "\n",
              "    .colab-df-buttons div {\n",
              "      margin-bottom: 4px;\n",
              "    }\n",
              "\n",
              "    [theme=dark] .colab-df-convert {\n",
              "      background-color: #3B4455;\n",
              "      fill: #D2E3FC;\n",
              "    }\n",
              "\n",
              "    [theme=dark] .colab-df-convert:hover {\n",
              "      background-color: #434B5C;\n",
              "      box-shadow: 0px 1px 3px 1px rgba(0, 0, 0, 0.15);\n",
              "      filter: drop-shadow(0px 1px 2px rgba(0, 0, 0, 0.3));\n",
              "      fill: #FFFFFF;\n",
              "    }\n",
              "  </style>\n",
              "\n",
              "    <script>\n",
              "      const buttonEl =\n",
              "        document.querySelector('#df-0092b832-fbb4-4715-813d-cefc6687792d button.colab-df-convert');\n",
              "      buttonEl.style.display =\n",
              "        google.colab.kernel.accessAllowed ? 'block' : 'none';\n",
              "\n",
              "      async function convertToInteractive(key) {\n",
              "        const element = document.querySelector('#df-0092b832-fbb4-4715-813d-cefc6687792d');\n",
              "        const dataTable =\n",
              "          await google.colab.kernel.invokeFunction('convertToInteractive',\n",
              "                                                    [key], {});\n",
              "        if (!dataTable) return;\n",
              "\n",
              "        const docLinkHtml = 'Like what you see? Visit the ' +\n",
              "          '<a target=\"_blank\" href=https://colab.research.google.com/notebooks/data_table.ipynb>data table notebook</a>'\n",
              "          + ' to learn more about interactive tables.';\n",
              "        element.innerHTML = '';\n",
              "        dataTable['output_type'] = 'display_data';\n",
              "        await google.colab.output.renderOutput(dataTable, element);\n",
              "        const docLink = document.createElement('div');\n",
              "        docLink.innerHTML = docLinkHtml;\n",
              "        element.appendChild(docLink);\n",
              "      }\n",
              "    </script>\n",
              "  </div>\n",
              "\n",
              "\n",
              "    <div id=\"df-7ec5da7b-23c3-4dbe-a786-0a2d7fbb7ecb\">\n",
              "      <button class=\"colab-df-quickchart\" onclick=\"quickchart('df-7ec5da7b-23c3-4dbe-a786-0a2d7fbb7ecb')\"\n",
              "                title=\"Suggest charts\"\n",
              "                style=\"display:none;\">\n",
              "\n",
              "<svg xmlns=\"http://www.w3.org/2000/svg\" height=\"24px\"viewBox=\"0 0 24 24\"\n",
              "     width=\"24px\">\n",
              "    <g>\n",
              "        <path d=\"M19 3H5c-1.1 0-2 .9-2 2v14c0 1.1.9 2 2 2h14c1.1 0 2-.9 2-2V5c0-1.1-.9-2-2-2zM9 17H7v-7h2v7zm4 0h-2V7h2v10zm4 0h-2v-4h2v4z\"/>\n",
              "    </g>\n",
              "</svg>\n",
              "      </button>\n",
              "\n",
              "<style>\n",
              "  .colab-df-quickchart {\n",
              "      --bg-color: #E8F0FE;\n",
              "      --fill-color: #1967D2;\n",
              "      --hover-bg-color: #E2EBFA;\n",
              "      --hover-fill-color: #174EA6;\n",
              "      --disabled-fill-color: #AAA;\n",
              "      --disabled-bg-color: #DDD;\n",
              "  }\n",
              "\n",
              "  [theme=dark] .colab-df-quickchart {\n",
              "      --bg-color: #3B4455;\n",
              "      --fill-color: #D2E3FC;\n",
              "      --hover-bg-color: #434B5C;\n",
              "      --hover-fill-color: #FFFFFF;\n",
              "      --disabled-bg-color: #3B4455;\n",
              "      --disabled-fill-color: #666;\n",
              "  }\n",
              "\n",
              "  .colab-df-quickchart {\n",
              "    background-color: var(--bg-color);\n",
              "    border: none;\n",
              "    border-radius: 50%;\n",
              "    cursor: pointer;\n",
              "    display: none;\n",
              "    fill: var(--fill-color);\n",
              "    height: 32px;\n",
              "    padding: 0;\n",
              "    width: 32px;\n",
              "  }\n",
              "\n",
              "  .colab-df-quickchart:hover {\n",
              "    background-color: var(--hover-bg-color);\n",
              "    box-shadow: 0 1px 2px rgba(60, 64, 67, 0.3), 0 1px 3px 1px rgba(60, 64, 67, 0.15);\n",
              "    fill: var(--button-hover-fill-color);\n",
              "  }\n",
              "\n",
              "  .colab-df-quickchart-complete:disabled,\n",
              "  .colab-df-quickchart-complete:disabled:hover {\n",
              "    background-color: var(--disabled-bg-color);\n",
              "    fill: var(--disabled-fill-color);\n",
              "    box-shadow: none;\n",
              "  }\n",
              "\n",
              "  .colab-df-spinner {\n",
              "    border: 2px solid var(--fill-color);\n",
              "    border-color: transparent;\n",
              "    border-bottom-color: var(--fill-color);\n",
              "    animation:\n",
              "      spin 1s steps(1) infinite;\n",
              "  }\n",
              "\n",
              "  @keyframes spin {\n",
              "    0% {\n",
              "      border-color: transparent;\n",
              "      border-bottom-color: var(--fill-color);\n",
              "      border-left-color: var(--fill-color);\n",
              "    }\n",
              "    20% {\n",
              "      border-color: transparent;\n",
              "      border-left-color: var(--fill-color);\n",
              "      border-top-color: var(--fill-color);\n",
              "    }\n",
              "    30% {\n",
              "      border-color: transparent;\n",
              "      border-left-color: var(--fill-color);\n",
              "      border-top-color: var(--fill-color);\n",
              "      border-right-color: var(--fill-color);\n",
              "    }\n",
              "    40% {\n",
              "      border-color: transparent;\n",
              "      border-right-color: var(--fill-color);\n",
              "      border-top-color: var(--fill-color);\n",
              "    }\n",
              "    60% {\n",
              "      border-color: transparent;\n",
              "      border-right-color: var(--fill-color);\n",
              "    }\n",
              "    80% {\n",
              "      border-color: transparent;\n",
              "      border-right-color: var(--fill-color);\n",
              "      border-bottom-color: var(--fill-color);\n",
              "    }\n",
              "    90% {\n",
              "      border-color: transparent;\n",
              "      border-bottom-color: var(--fill-color);\n",
              "    }\n",
              "  }\n",
              "</style>\n",
              "\n",
              "      <script>\n",
              "        async function quickchart(key) {\n",
              "          const quickchartButtonEl =\n",
              "            document.querySelector('#' + key + ' button');\n",
              "          quickchartButtonEl.disabled = true;  // To prevent multiple clicks.\n",
              "          quickchartButtonEl.classList.add('colab-df-spinner');\n",
              "          try {\n",
              "            const charts = await google.colab.kernel.invokeFunction(\n",
              "                'suggestCharts', [key], {});\n",
              "          } catch (error) {\n",
              "            console.error('Error during call to suggestCharts:', error);\n",
              "          }\n",
              "          quickchartButtonEl.classList.remove('colab-df-spinner');\n",
              "          quickchartButtonEl.classList.add('colab-df-quickchart-complete');\n",
              "        }\n",
              "        (() => {\n",
              "          let quickchartButtonEl =\n",
              "            document.querySelector('#df-7ec5da7b-23c3-4dbe-a786-0a2d7fbb7ecb button');\n",
              "          quickchartButtonEl.style.display =\n",
              "            google.colab.kernel.accessAllowed ? 'block' : 'none';\n",
              "        })();\n",
              "      </script>\n",
              "    </div>\n",
              "\n",
              "    </div>\n",
              "  </div>\n"
            ],
            "application/vnd.google.colaboratory.intrinsic+json": {
              "type": "dataframe",
              "variable_name": "df"
            }
          },
          "metadata": {},
          "execution_count": 2
        }
      ],
      "source": [
        "df = pd.read_csv(\"/content/listings.csv.gz\", low_memory=False)\n",
        "\n",
        "print(\"Filas y columnas:\", df.shape)\n",
        "\n",
        "df.head()\n"
      ]
    },
    {
      "cell_type": "markdown",
      "metadata": {
        "id": "aKeLPILuR6J8"
      },
      "source": [
        "## 2. Explore Missing Values\n",
        "\n",
        "Business framing:\n",
        "\n",
        "Stakeholders don’t like surprises in the data. Missing values can break dashboards, confuse pricing models, or create blind spots for host managers.\n",
        "\n",
        "Explore how complete your dataset is:\n",
        "- Count the null values of each column\n",
        "- Create visuals (e.g. heatmaps, boxplots, bar charts, etc) to help show what columns are missing values\n",
        "- Keep in mind which column(s) are missing too much data, you will delete these in the next step\n",
        "\n",
        "### In your markdown:\n",
        "1. What are the top 3 columns with the most missing values?\n",
        "2. Which ones are likely to create business issues?\n",
        "3. Which could be safely ignored or dropped?\n",
        "\n"
      ]
    },
    {
      "cell_type": "code",
      "execution_count": 3,
      "metadata": {
        "id": "W8HxUf-YR5o5",
        "colab": {
          "base_uri": "https://localhost:8080/",
          "height": 564
        },
        "outputId": "b2c9b80c-2b33-400c-fbf8-08a6f7a039f3"
      },
      "outputs": [
        {
          "output_type": "display_data",
          "data": {
            "text/plain": [
              "<Figure size 1000x600 with 1 Axes>"
            ],
            "image/png": "[encoded data removed]"
          },
          "metadata": {}
        }
      ],
      "source": [
        "# Count nulls per column\n",
        "missing = df.isna().sum().sort_values(ascending=False)\n",
        "\n",
        "# Show top 15 columns with most missing values\n",
        "missing.head(15)\n",
        "\n",
        "# Visualize top 10 columns with missing values\n",
        "plt.figure(figsize=(10,6))\n",
        "sns.barplot(x=missing.head(10).values, y=missing.head(10).index, color=\"red\")\n",
        "plt.title(\"Top 10 Columns with Missing Values\")\n",
        "plt.xlabel(\"Missing Values\")\n",
        "plt.ylabel(\"Columns\")\n",
        "plt.show()\n"
      ]
    },
    {
      "cell_type": "markdown",
      "metadata": {
        "id": "2R5FRgTbGY9G"
      },
      "source": [
        "1. The top 3 columns with the most missing values are: calendar_updated, host_neighbourhood, neighborhood_overview.  \n",
        "2. Columns like review_scores_* could create business issues because they are important for host/guest trust.  \n",
        "3. Columns such as license or host_about could be safely ignored/dropped since they don’t affect pricing or availability.\n"
      ]
    },
    {
      "cell_type": "markdown",
      "metadata": {
        "id": "4LCyzSZ8R-MI"
      },
      "source": [
        "## 3. Drop Columns That Aren’t Useful\n",
        "\n",
        "Business framing:  \n",
        "\n",
        "Not every column adds value. Analysts often remove columns that are too empty, irrelevant, or repetitive — especially when preparing data for others.\n",
        "\n",
        "Make a decision:\n",
        "\n",
        "- Choose 2–4 columns to drop from your dataset\n",
        "- Document your reasons for each one\n",
        "- Confirm they're gone with `.head()` or `.info()`\n",
        "\n",
        "### In Your Response:\n",
        "1. Which columns did you drop?\n",
        "2. Why were they not useful from a business perspective?\n",
        "3. What could go wrong if you left them in?\n",
        "\n"
      ]
    },
    {
      "cell_type": "code",
      "execution_count": 4,
      "metadata": {
        "id": "GvQDqSfPSD-3",
        "colab": {
          "base_uri": "https://localhost:8080/"
        },
        "outputId": "2c402dde-3815-4bfe-a77c-c452d74da61d"
      },
      "outputs": [
        {
          "output_type": "stream",
          "name": "stdout",
          "text": [
            "<class 'pandas.core.frame.DataFrame'>\n",
            "RangeIndex: 18927 entries, 0 to 18926\n",
            "Data columns (total 75 columns):\n",
            " #   Column                                        Non-Null Count  Dtype  \n",
            "---  ------                                        --------------  -----  \n",
            " 0   id                                            18927 non-null  int64  \n",
            " 1   listing_url                                   18927 non-null  object \n",
            " 2   scrape_id                                     18927 non-null  int64  \n",
            " 3   last_scraped                                  18927 non-null  object \n",
            " 4   source                                        18927 non-null  object \n",
            " 5   name                                          18927 non-null  object \n",
            " 6   description                                   18189 non-null  object \n",
            " 7   picture_url                                   18927 non-null  object \n",
            " 8   host_id                                       18927 non-null  int64  \n",
            " 9   host_url                                      18927 non-null  object \n",
            " 10  host_name                                     18924 non-null  object \n",
            " 11  host_since                                    18924 non-null  object \n",
            " 12  host_location                                 14551 non-null  object \n",
            " 13  host_response_time                            16037 non-null  object \n",
            " 14  host_response_rate                            16037 non-null  object \n",
            " 15  host_acceptance_rate                          16183 non-null  object \n",
            " 16  host_is_superhost                             18360 non-null  object \n",
            " 17  host_thumbnail_url                            18924 non-null  object \n",
            " 18  host_picture_url                              18924 non-null  object \n",
            " 19  host_neighbourhood                            9151 non-null   object \n",
            " 20  host_listings_count                           18924 non-null  float64\n",
            " 21  host_total_listings_count                     18924 non-null  float64\n",
            " 22  host_verifications                            18924 non-null  object \n",
            " 23  host_has_profile_pic                          18924 non-null  object \n",
            " 24  host_identity_verified                        18924 non-null  object \n",
            " 25  neighbourhood                                 9154 non-null   object \n",
            " 26  neighbourhood_cleansed                        18927 non-null  object \n",
            " 27  neighbourhood_group_cleansed                  18927 non-null  object \n",
            " 28  latitude                                      18927 non-null  float64\n",
            " 29  longitude                                     18927 non-null  float64\n",
            " 30  property_type                                 18927 non-null  object \n",
            " 31  room_type                                     18927 non-null  object \n",
            " 32  accommodates                                  18927 non-null  int64  \n",
            " 33  bathrooms                                     14942 non-null  float64\n",
            " 34  bathrooms_text                                18919 non-null  object \n",
            " 35  bedrooms                                      16870 non-null  float64\n",
            " 36  beds                                          14874 non-null  float64\n",
            " 37  amenities                                     18927 non-null  object \n",
            " 38  price                                         14913 non-null  object \n",
            " 39  minimum_nights                                18927 non-null  int64  \n",
            " 40  maximum_nights                                18927 non-null  int64  \n",
            " 41  minimum_minimum_nights                        18923 non-null  float64\n",
            " 42  maximum_minimum_nights                        18923 non-null  float64\n",
            " 43  minimum_maximum_nights                        18923 non-null  float64\n",
            " 44  maximum_maximum_nights                        18923 non-null  float64\n",
            " 45  minimum_nights_avg_ntm                        18927 non-null  float64\n",
            " 46  maximum_nights_avg_ntm                        18927 non-null  float64\n",
            " 47  has_availability                              17838 non-null  object \n",
            " 48  availability_30                               18927 non-null  int64  \n",
            " 49  availability_60                               18927 non-null  int64  \n",
            " 50  availability_90                               18927 non-null  int64  \n",
            " 51  availability_365                              18927 non-null  int64  \n",
            " 52  calendar_last_scraped                         18927 non-null  object \n",
            " 53  number_of_reviews                             18927 non-null  int64  \n",
            " 54  number_of_reviews_ltm                         18927 non-null  int64  \n",
            " 55  number_of_reviews_l30d                        18927 non-null  int64  \n",
            " 56  availability_eoy                              18927 non-null  int64  \n",
            " 57  number_of_reviews_ly                          18927 non-null  int64  \n",
            " 58  estimated_occupancy_l365d                     18927 non-null  int64  \n",
            " 59  estimated_revenue_l365d                       14913 non-null  float64\n",
            " 60  first_review                                  13929 non-null  object \n",
            " 61  last_review                                   13929 non-null  object \n",
            " 62  review_scores_rating                          13929 non-null  float64\n",
            " 63  review_scores_accuracy                        13926 non-null  float64\n",
            " 64  review_scores_cleanliness                     13927 non-null  float64\n",
            " 65  review_scores_checkin                         13925 non-null  float64\n",
            " 66  review_scores_communication                   13928 non-null  float64\n",
            " 67  review_scores_location                        13926 non-null  float64\n",
            " 68  review_scores_value                           13926 non-null  float64\n",
            " 69  instant_bookable                              18927 non-null  object \n",
            " 70  calculated_host_listings_count                18927 non-null  int64  \n",
            " 71  calculated_host_listings_count_entire_homes   18927 non-null  int64  \n",
            " 72  calculated_host_listings_count_private_rooms  18927 non-null  int64  \n",
            " 73  calculated_host_listings_count_shared_rooms   18927 non-null  int64  \n",
            " 74  reviews_per_month                             13929 non-null  float64\n",
            "dtypes: float64(22), int64(20), object(33)\n",
            "memory usage: 10.8+ MB\n"
          ]
        }
      ],
      "source": [
        "# Drop selected columns\n",
        "cols_to_drop = ['calendar_updated', 'host_about', 'license', 'neighborhood_overview']\n",
        "df = df.drop(columns=cols_to_drop)\n",
        "\n",
        "# Confirm they are gone\n",
        "df.info()"
      ]
    },
    {
      "cell_type": "markdown",
      "metadata": {
        "id": "WWR4HiV9GJVY"
      },
      "source": [
        "1. Dropped columns: calendar_updated, host_about, license, neighborhood_overview.  \n",
        "2. They were not useful because they had too many missing values or were descriptive/free text with little business value.  \n",
        "3. If kept, they could add noise and make the dataset harder to analyze without improving decision-making.  \n",
        "\n"
      ]
    },
    {
      "cell_type": "markdown",
      "metadata": {
        "id": "0CtWLg_LSHNd"
      },
      "source": [
        "## 4. Fill or Fix Values in Key Columns\n",
        "\n",
        "Business framing:  \n",
        "\n",
        "Let’s say your manager wants to see a map of listings with prices and review scores. If key fields are blank, the map won’t work. But not all missing values should be filled the same way.\n",
        "\n",
        "- Choose 2 columns with missing values\n",
        "- Use a strategy to fill or flag those values\n",
        "  - (e.g., median, “unknown”, forward-fill, or a placeholder)\n",
        "- Explain what you did and why\n",
        "\n",
        "### In your response:\n",
        "1. What two columns did you clean?\n",
        "2. What method did you use for each, and why?\n",
        "3. What risks are there in how you filled the data?"
      ]
    },
    {
      "cell_type": "code",
      "execution_count": 5,
      "metadata": {
        "id": "AfoW3qQeSJuB",
        "colab": {
          "base_uri": "https://localhost:8080/",
          "height": 147
        },
        "outputId": "5a988ea1-19b6-49e2-8a3b-10c91831a02b"
      },
      "outputs": [
        {
          "output_type": "execute_result",
          "data": {
            "text/plain": [
              "review_scores_rating    0\n",
              "host_neighbourhood      0\n",
              "dtype: int64"
            ],
            "text/html": [
              "<div>\n",
              "<style scoped>\n",
              "    .dataframe tbody tr th:only-of-type {\n",
              "        vertical-align: middle;\n",
              "    }\n",
              "\n",
              "    .dataframe tbody tr th {\n",
              "        vertical-align: top;\n",
              "    }\n",
              "\n",
              "    .dataframe thead th {\n",
              "        text-align: right;\n",
              "    }\n",
              "</style>\n",
              "<table border=\"1\" class=\"dataframe\">\n",
              "  <thead>\n",
              "    <tr style=\"text-align: right;\">\n",
              "      <th></th>\n",
              "      <th>0</th>\n",
              "    </tr>\n",
              "  </thead>\n",
              "  <tbody>\n",
              "    <tr>\n",
              "      <th>review_scores_rating</th>\n",
              "      <td>0</td>\n",
              "    </tr>\n",
              "    <tr>\n",
              "      <th>host_neighbourhood</th>\n",
              "      <td>0</td>\n",
              "    </tr>\n",
              "  </tbody>\n",
              "</table>\n",
              "</div><br><label><b>dtype:</b> int64</label>"
            ]
          },
          "metadata": {},
          "execution_count": 5
        }
      ],
      "source": [
        "df['review_scores_rating'] = df['review_scores_rating'].fillna(df['review_scores_rating'].median())\n",
        "\n",
        "df['host_neighbourhood'] = df['host_neighbourhood'].fillna(\"Unknown\")\n",
        "\n",
        "df[['review_scores_rating', 'host_neighbourhood']].isna().sum()\n"
      ]
    },
    {
      "cell_type": "markdown",
      "metadata": {
        "id": "u1B2QQbZNoSj"
      },
      "source": [
        "1. Cleaned columns: review_scores_rating, host_neighbourhood  \n",
        "2. Methods: median for review_scores_rating, \"Unknown\" for host_neighbourhood  \n",
        "3. Risks: imputation may distort true score distribution, and \"Unknown\" may group different missing cases together\n"
      ]
    },
    {
      "cell_type": "markdown",
      "metadata": {
        "id": "YmpUrgLVSNcl"
      },
      "source": [
        "## 5. Convert and Clean Data Types\n",
        "\n",
        "Business framing:  \n",
        "\n",
        "Sometimes columns that look like numbers are actually stored as text — which breaks calculations and slows down analysis. Common examples are price columns with dollar signs or availability stored as strings.\n",
        "\n",
        "- Identify one column with the wrong data type\n",
        "- Clean and convert it into a usable format (e.g., from string to number)\n",
        "- Check your work by summarizing or plotting the cleaned column\n",
        "\n",
        "### In Your Response: :\n",
        "1. What column did you fix?\n",
        "2. What cleaning steps did you apply?\n",
        "3. How does this help prepare the data for later use?\n"
      ]
    },
    {
      "cell_type": "code",
      "execution_count": 7,
      "metadata": {
        "id": "y637bPKuSNOL",
        "colab": {
          "base_uri": "https://localhost:8080/",
          "height": 335
        },
        "outputId": "75a83c3a-a622-49cd-e586-f73fd1acac67"
      },
      "outputs": [
        {
          "output_type": "execute_result",
          "data": {
            "text/plain": [
              "count    14913.000000\n",
              "mean       214.380071\n",
              "std        385.402591\n",
              "min          9.000000\n",
              "25%         74.000000\n",
              "50%        143.000000\n",
              "75%        256.000000\n",
              "max      10000.000000\n",
              "Name: price, dtype: float64"
            ],
            "text/html": [
              "<div>\n",
              "<style scoped>\n",
              "    .dataframe tbody tr th:only-of-type {\n",
              "        vertical-align: middle;\n",
              "    }\n",
              "\n",
              "    .dataframe tbody tr th {\n",
              "        vertical-align: top;\n",
              "    }\n",
              "\n",
              "    .dataframe thead th {\n",
              "        text-align: right;\n",
              "    }\n",
              "</style>\n",
              "<table border=\"1\" class=\"dataframe\">\n",
              "  <thead>\n",
              "    <tr style=\"text-align: right;\">\n",
              "      <th></th>\n",
              "      <th>price</th>\n",
              "    </tr>\n",
              "  </thead>\n",
              "  <tbody>\n",
              "    <tr>\n",
              "      <th>count</th>\n",
              "      <td>14913.000000</td>\n",
              "    </tr>\n",
              "    <tr>\n",
              "      <th>mean</th>\n",
              "      <td>214.380071</td>\n",
              "    </tr>\n",
              "    <tr>\n",
              "      <th>std</th>\n",
              "      <td>385.402591</td>\n",
              "    </tr>\n",
              "    <tr>\n",
              "      <th>min</th>\n",
              "      <td>9.000000</td>\n",
              "    </tr>\n",
              "    <tr>\n",
              "      <th>25%</th>\n",
              "      <td>74.000000</td>\n",
              "    </tr>\n",
              "    <tr>\n",
              "      <th>50%</th>\n",
              "      <td>143.000000</td>\n",
              "    </tr>\n",
              "    <tr>\n",
              "      <th>75%</th>\n",
              "      <td>256.000000</td>\n",
              "    </tr>\n",
              "    <tr>\n",
              "      <th>max</th>\n",
              "      <td>10000.000000</td>\n",
              "    </tr>\n",
              "  </tbody>\n",
              "</table>\n",
              "</div><br><label><b>dtype:</b> float64</label>"
            ]
          },
          "metadata": {},
          "execution_count": 7
        }
      ],
      "source": [
        "df['price'] = df['price'].replace(r'[\\$,]', '', regex=True).astype(float)\n",
        "\n",
        "df['price'].describe()\n"
      ]
    },
    {
      "cell_type": "markdown",
      "metadata": {
        "id": "2QznnHuPGxdq"
      },
      "source": [
        "1. Fixed column: price  \n",
        "2. Cleaning steps: removed dollar signs and commas, converted to float  \n",
        "3. This prepares the data for calculations, aggregations, and visualizations without errors  \n"
      ]
    },
    {
      "cell_type": "markdown",
      "metadata": {
        "id": "Zvsas_ckG6-u"
      },
      "source": [
        "## 6. Remove Duplicate Records\n",
        "\n",
        "Business framing:  \n",
        "\n",
        "If a listing appears twice, it could inflate revenue estimates or confuse users. Airbnb needs each listing to be unique and accurate.\n",
        "\n",
        "- Check for rows that are exact duplicates\n",
        "- If your data has an ID column and each ID is supposed to unique, then make sure there are no duplicate IDs\n",
        "- Remove duplicates if found\n",
        "\n",
        "### In your markdown:\n",
        "1. Did you find duplicates?\n",
        "2. How did you decide what to drop or keep?\n",
        "3. Why are duplicates risky for Airbnb teams?\n"
      ]
    },
    {
      "cell_type": "code",
      "execution_count": 8,
      "metadata": {
        "id": "0KyeZUR0G_Tk",
        "colab": {
          "base_uri": "https://localhost:8080/"
        },
        "outputId": "e2ee1f00-88c2-4303-ae50-b06fc4146537"
      },
      "outputs": [
        {
          "output_type": "stream",
          "name": "stdout",
          "text": [
            "Number of duplicate rows: 0\n",
            "Number of duplicate IDs: 0\n"
          ]
        }
      ],
      "source": [
        "duplicates = df.duplicated().sum()\n",
        "print(\"Number of duplicate rows:\", duplicates)\n",
        "\n",
        "df = df.drop_duplicates()\n",
        "\n",
        "id_duplicates = df['id'].duplicated().sum()\n",
        "print(\"Number of duplicate IDs:\", id_duplicates)"
      ]
    },
    {
      "cell_type": "markdown",
      "metadata": {
        "id": "OuTQ2nMAHBIO"
      },
      "source": [
        "1. Found 0 duplicate rows and 0 duplicate IDs.  \n",
        "2. No need to drop records since all listings are already unique.  \n",
        "3. Duplicates are risky because they could inflate revenue estimates and mislead Airbnb teams about supply and demand.  "
      ]
    },
    {
      "cell_type": "markdown",
      "metadata": {
        "id": "6a8Rc945m9PQ"
      },
      "source": [
        "## 7. Export Cleaned Data\n",
        "\n",
        "Before wrapping up, export your cleaned Airbnb dataset to a CSV file. You'll need this file for **Assignment 7**, where you'll perform data transformation techniques.\n",
        "\n",
        "Make sure your data has:\n",
        "- Cleaned and consistent column values\n",
        "- Proper data types for each column\n",
        "- Any unnecessary columns removed\n",
        "\n",
        "This file should be the version of your dataset that you’d feel confident sharing with a teammate or using for deeper analysis.\n",
        "\n",
        "\n",
        "\n",
        "```\n",
        "# Explanation:\n",
        "# - \"cleaned_airbnb_data.csv\" is the name of the file that will be saved\n",
        "# - index=False prevents pandas from writing row numbers into the CSV\n",
        "# - The file will be saved to your working directory (in Colab, you'll need to download it manually. Once you see the data in your files tab, just click on the three dots, then click “download”)\n",
        "# - YOU MAY NEED TO PRESS “RUN” MULTIPLE TIMES IN ORDER FOR IT TO SHOW UP\n",
        "# - FOR SOME DEVICES, IT MAY TAKE A FEW MINUTES BEFORE YOUR FILE SHOWS UP\n",
        "\n",
        "```\n",
        "\n",
        "\n",
        "\n"
      ]
    },
    {
      "cell_type": "code",
      "execution_count": 9,
      "metadata": {
        "id": "SYjYwyYonTi9",
        "colab": {
          "base_uri": "https://localhost:8080/"
        },
        "outputId": "b88f617f-1243-4d07-f5ec-77cb38ea8deb"
      },
      "outputs": [
        {
          "output_type": "stream",
          "name": "stdout",
          "text": [
            "Cleaned dataset saved as cleaned_airbnb_data.csv\n"
          ]
        }
      ],
      "source": [
        "df.to_csv(\"cleaned_airbnb_data.csv\", index=False)\n",
        "\n",
        "print(\"Cleaned dataset saved as cleaned_airbnb_data.csv\")"
      ]
    },
    {
      "cell_type": "markdown",
      "metadata": {
        "id": "HrhzfHDRSfkr"
      },
      "source": [
        "## 8. Final Reflection\n",
        "\n",
        "You’ve just cleaned a real-world Airbnb dataset — the kind of work that happens every day in analyst and data science roles.\n",
        "\n",
        "Before you move on to data transformation in Assignment 7, take a few moments to reflect on the decisions you made and what you learned.\n",
        "\n",
        "### In your markdown:\n",
        "1. What was the most surprising or challenging part of cleaning this dataset?\n",
        "2. How did you decide which data to drop, fix, or keep?\n",
        "3. What’s one way a business team (e.g., hosts, pricing analysts, platform ops) might benefit from the cleaned version of this data?\n",
        "4. If you had more time, what would you explore or clean further?\n",
        "5. How does this relate to your customized learning outcome you created in canvas?\n",
        "\n",
        "\n",
        "Write your response clearly in full sentences. No more than a few sentences required per response.\n"
      ]
    },
    {
      "cell_type": "markdown",
      "metadata": {
        "id": "oAFnMYRqSd7A"
      },
      "source": [
        "1. The most challenging part was dealing with missing values because some columns had too many nulls.  \n",
        "2. I decided what to drop, fix, or keep based on how useful the column would be for business analysis.  \n",
        "3. A business team like pricing analysts could use the cleaned data to better understand market trends.  \n",
        "4. If I had more time, I would explore outliers in price and availability to improve data quality further.  \n",
        "5. This relates to my customized learning outcome by giving me hands-on practice with real data cleaning tasks."
      ]
    },
    {
      "cell_type": "markdown",
      "metadata": {
        "id": "MIzm-EIeS065"
      },
      "source": [
        "## Submission Instructions\n",
        "✅ Checklist:\n",
        "- All code cells run without error\n",
        "- All markdown responses are complete\n",
        "- Submit on Canvas as instructed"
      ]
    },
    {
      "cell_type": "code",
      "execution_count": 10,
      "metadata": {
        "colab": {
          "base_uri": "https://localhost:8080/"
        },
        "id": "6H6tn1Qs8F2t",
        "outputId": "8b5508bc-8135-47b5-c445-804dc6e2348f"
      },
      "outputs": [
        {
          "output_type": "stream",
          "name": "stdout",
          "text": [
            "[NbConvertApp] Converting notebook assignment_06_FajardoPatrick.ipynb to html\n",
            "[NbConvertApp] WARNING | Alternative text is missing on 1 image(s).\n",
            "[NbConvertApp] Writing 374185 bytes to assignment_06_FajardoPatrick.html\n"
          ]
        }
      ],
      "source": [
        "!jupyter nbconvert --to html \"assignment_06_FajardoPatrick.ipynb\""
      ]
    }
  ],
  "metadata": {
    "colab": {
      "provenance": []
    },
    "kernelspec": {
      "display_name": "Python 3",
      "name": "python3"
    },
    "language_info": {
      "name": "python"
    }
  },
  "nbformat": 4,
  "nbformat_minor": 0
}